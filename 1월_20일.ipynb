{
  "nbformat": 4,
  "nbformat_minor": 0,
  "metadata": {
    "colab": {
      "name": "1월 20일.ipynb",
      "provenance": []
    },
    "kernelspec": {
      "name": "python3",
      "display_name": "Python 3"
    },
    "language_info": {
      "name": "python"
    }
  },
  "cells": [
    {
      "cell_type": "code",
      "execution_count": 8,
      "metadata": {
        "colab": {
          "base_uri": "https://localhost:8080/"
        },
        "id": "IaX2AJPFRNNY",
        "outputId": "024ae190-2c4a-4e0d-d5e9-d014531a0119"
      },
      "outputs": [
        {
          "output_type": "stream",
          "name": "stdout",
          "text": [
            "횽길\t동\n"
          ]
        }
      ],
      "source": [
        "print(\"횽길\\t동\")"
      ]
    },
    {
      "cell_type": "markdown",
      "source": [
        "# 나눗셈 몫과 나머지 구하기 연산 코드"
      ],
      "metadata": {
        "id": "usTAJLepT1wz"
      }
    },
    {
      "cell_type": "code",
      "source": [
        "p=int(input(\"분자를 입력하세요:\"))\n",
        "q=int(input(\"분모를 입력하시오:\"))\n",
        "print(\"나눗셈의 몫=\",p//q)\n",
        "print(\"나눗셈의 나머지=\",p%q)\n"
      ],
      "metadata": {
        "colab": {
          "base_uri": "https://localhost:8080/"
        },
        "id": "XCEQV-XcRzpT",
        "outputId": "4a7a3c91-d6d3-4e23-b57b-0f40671a418d"
      },
      "execution_count": 2,
      "outputs": [
        {
          "output_type": "stream",
          "name": "stdout",
          "text": [
            "분자를 입력하세요:5\n",
            "분모를 입력하시오:7\n",
            "나눗셈의 몫= 0\n",
            "나눗셈의 나머지= 5\n"
          ]
        }
      ]
    },
    {
      "cell_type": "markdown",
      "source": [
        "# BMI계산하기"
      ],
      "metadata": {
        "id": "8xlQJFhqT-e7"
      }
    },
    {
      "cell_type": "code",
      "source": [
        "w=float(input(\"몸무게를 kg단위로 입력하시오:\"))\n",
        "h=float(input(\"키를 미터단위로 입력하시오:\"))\n",
        "bmi=(w/(h**2))\n",
        "print(\"당신의 BMI=\",bmi)"
      ],
      "metadata": {
        "colab": {
          "base_uri": "https://localhost:8080/"
        },
        "id": "Jo171X9NTBzR",
        "outputId": "048e0e0d-e3d3-4879-e49d-887f7d1a7401"
      },
      "execution_count": 4,
      "outputs": [
        {
          "output_type": "stream",
          "name": "stdout",
          "text": [
            "몸무게를 kg단위로 입력하시오:98.9\n",
            "키를 미터단위로 입력하시오:1.76\n",
            "당신의 BMI= 31.927944214876035\n"
          ]
        }
      ]
    },
    {
      "cell_type": "code",
      "source": [
        ""
      ],
      "metadata": {
        "id": "eoVfnc1RVHCS"
      },
      "execution_count": 3,
      "outputs": []
    },
    {
      "cell_type": "markdown",
      "source": [
        "# 평균구하기"
      ],
      "metadata": {
        "id": "xu5ws4yEXJ9r"
      }
    },
    {
      "cell_type": "code",
      "source": [
        "x=int(input(\"첫번재 수를 입력하시오:\"))\n",
        "y=int(input(\"두번재 수를 입력하시오:\"))\n",
        "z=int(input(\"세번재 수를 입력하시오:\"))\n",
        "avg=(x+y+z)/3\n",
        "print(\"평균=\",avg)"
      ],
      "metadata": {
        "colab": {
          "base_uri": "https://localhost:8080/"
        },
        "id": "JYHxgRhnXN_b",
        "outputId": "9b82c713-60db-42bf-81fd-34b3369e2fac"
      },
      "execution_count": 6,
      "outputs": [
        {
          "output_type": "stream",
          "name": "stdout",
          "text": [
            "첫번재 수를 입력하시오:4526\n",
            "두번재 수를 입력하시오:56424\n",
            "세번재 수를 입력하시오:34243\n",
            "평균= 31731.0\n"
          ]
        }
      ]
    },
    {
      "cell_type": "code",
      "source": [
        "| \\ | \\n"
      ],
      "metadata": {
        "id": "JGNNQrnnX4_y"
      },
      "execution_count": null,
      "outputs": []
    }
  ]
}