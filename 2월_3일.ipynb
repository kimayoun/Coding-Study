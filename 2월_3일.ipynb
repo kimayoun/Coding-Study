{
  "nbformat": 4,
  "nbformat_minor": 0,
  "metadata": {
    "colab": {
      "name": "2월 3일.ipynb",
      "provenance": [],
      "collapsed_sections": []
    },
    "kernelspec": {
      "name": "python3",
      "display_name": "Python 3"
    },
    "language_info": {
      "name": "python"
    }
  },
  "cells": [
    {
      "cell_type": "code",
      "execution_count": 4,
      "metadata": {
        "colab": {
          "base_uri": "https://localhost:8080/"
        },
        "id": "hwvPONKiRqQb",
        "outputId": "41b555e6-b248-44e7-93ef-70e9c8ffc3bf"
      },
      "outputs": [
        {
          "output_type": "stream",
          "name": "stdout",
          "text": [
            "sky is blue\n"
          ]
        }
      ],
      "source": [
        "s=\"sky is blue\"\n",
        "print(s)"
      ]
    },
    {
      "cell_type": "code",
      "source": [
        "upper_s=s.upper()\n",
        "print(upper_s)"
      ],
      "metadata": {
        "colab": {
          "base_uri": "https://localhost:8080/"
        },
        "id": "SdlJ0O_lSEJo",
        "outputId": "112d404e-110d-4172-8356-266e33f9ac53"
      },
      "execution_count": 5,
      "outputs": [
        {
          "output_type": "stream",
          "name": "stdout",
          "text": [
            "SKY IS BLUE\n"
          ]
        }
      ]
    },
    {
      "cell_type": "code",
      "source": [
        "lower_s=upper_s.lower()\n",
        "print(lower_s)"
      ],
      "metadata": {
        "colab": {
          "base_uri": "https://localhost:8080/"
        },
        "id": "BwwphySASp0x",
        "outputId": "f957a66f-8acc-47fb-e45f-a7000f24ea58"
      },
      "execution_count": 6,
      "outputs": [
        {
          "output_type": "stream",
          "name": "stdout",
          "text": [
            "sky is blue\n"
          ]
        }
      ]
    },
    {
      "cell_type": "code",
      "source": [
        "a=lower_s.islower()\n",
        "print(a)"
      ],
      "metadata": {
        "colab": {
          "base_uri": "https://localhost:8080/"
        },
        "id": "HKrT-o2fTIsJ",
        "outputId": "e0e75cc6-b7d7-4f2d-dc54-8ea126bad8b8"
      },
      "execution_count": 8,
      "outputs": [
        {
          "output_type": "stream",
          "name": "stdout",
          "text": [
            "True\n"
          ]
        }
      ]
    },
    {
      "cell_type": "code",
      "source": [
        "print(len(lower_s))"
      ],
      "metadata": {
        "colab": {
          "base_uri": "https://localhost:8080/"
        },
        "id": "5UquQEo5ToQQ",
        "outputId": "ed6364d8-bf4a-4b6a-a7be-23c57b4730c2"
      },
      "execution_count": 9,
      "outputs": [
        {
          "output_type": "stream",
          "name": "stdout",
          "text": [
            "11\n"
          ]
        }
      ]
    },
    {
      "cell_type": "code",
      "source": [
        "ballon=\"Sammy has a ballon\""
      ],
      "metadata": {
        "id": "AfxBwF5VUjKI"
      },
      "execution_count": 10,
      "outputs": []
    },
    {
      "cell_type": "code",
      "source": [
        "\"..\".join(ballon)"
      ],
      "metadata": {
        "colab": {
          "base_uri": "https://localhost:8080/",
          "height": 35
        },
        "id": "fZu_e_4oVC-Q",
        "outputId": "e3b8d96f-aa15-4dc0-f8f0-6732960477eb"
      },
      "execution_count": 12,
      "outputs": [
        {
          "output_type": "execute_result",
          "data": {
            "application/vnd.google.colaboratory.intrinsic+json": {
              "type": "string"
            },
            "text/plain": [
              "'S..a..m..m..y.. ..h..a..s.. ..a.. ..b..a..l..l..o..n'"
            ]
          },
          "metadata": {},
          "execution_count": 12
        }
      ]
    },
    {
      "cell_type": "code",
      "source": [
        "print(\"&\".join(reversed(ballon)))"
      ],
      "metadata": {
        "colab": {
          "base_uri": "https://localhost:8080/"
        },
        "id": "aVV7pPzgVK5Z",
        "outputId": "583f4f6d-c098-4df3-a721-c06cbb5c23fc"
      },
      "execution_count": 15,
      "outputs": [
        {
          "output_type": "stream",
          "name": "stdout",
          "text": [
            "n&o&l&l&a&b& &a& &s&a&h& &y&m&m&a&S\n"
          ]
        }
      ]
    },
    {
      "cell_type": "code",
      "source": [
        "print(ballon.split())"
      ],
      "metadata": {
        "colab": {
          "base_uri": "https://localhost:8080/"
        },
        "id": "7MBKax7JVueA",
        "outputId": "51a26a34-4935-4240-8ac6-4e1a9a314e9e"
      },
      "execution_count": 16,
      "outputs": [
        {
          "output_type": "stream",
          "name": "stdout",
          "text": [
            "['Sammy', 'has', 'a', 'ballon']\n"
          ]
        }
      ]
    },
    {
      "cell_type": "code",
      "source": [
        "print(ballon.split())"
      ],
      "metadata": {
        "id": "AVVR9AgkWDso"
      },
      "execution_count": null,
      "outputs": []
    }
  ]
}