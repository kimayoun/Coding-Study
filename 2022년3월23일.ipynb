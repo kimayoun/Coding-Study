{
  "nbformat": 4,
  "nbformat_minor": 0,
  "metadata": {
    "colab": {
      "name": "2022년3월23일.ipynb",
      "provenance": []
    },
    "kernelspec": {
      "name": "python3",
      "display_name": "Python 3"
    },
    "language_info": {
      "name": "python"
    }
  },
  "cells": [
    {
      "cell_type": "code",
      "execution_count": null,
      "metadata": {
        "id": "kRcYlzi7c-F_"
      },
      "outputs": [],
      "source": [
        ""
      ]
    },
    {
      "cell_type": "markdown",
      "source": [
        "#점치는 게임\n",
        "난수를 이용해 점을 쳐볼까요????"
      ],
      "metadata": {
        "id": "sIMWtzJLiNMM"
      }
    },
    {
      "cell_type": "code",
      "source": [
        "import sys\n",
        "import random\n",
        "\n",
        "while True:\n",
        "  name = input(\"이름: (종료하려면 엔터키) \")\n",
        "  if name == \"\":\n",
        "    sys.exit()\n",
        "\n",
        "  question = input(\"무엇이든 물어물어봐아ㅏ앙\")\n",
        "  print(name+ \"님\" , \"\\\"\", question, \"\\\"에 대하여 물어물어 보얐군뇨오?\") \n",
        "  print(\"운명의 주사위를 굴려볼게요...\")\n",
        "\n",
        "  answers=random.randint(1, 8)\n",
        "\n",
        "  if answers == 1:\n",
        "    print(\"네, 확실확실하군요\")\n",
        "\n",
        "  elif answers == 2:\n",
        "    print(\"앞날이 밝밝군요오?\")\n",
        "\n",
        "  elif answers == 3:\n",
        "     print(\"유 캔 빌리ㅂ\")\n",
        "  \n",
        "  elif answers == 4:\n",
        "    print(\"글쎄글ㅆ에? 아뉜 거 같군요오?\")\n",
        "\n",
        "  elif answers == 5:\n",
        "    print(\"원 스팟의 의심도 없이 코뤡ㅌ!\")\n",
        "\n",
        "  elif answers == 6:\n",
        "    print(\"슈얼ㄹ, 명붹히 코렉틑ㅌ 선택!\")\n",
        "\n",
        "  elif answers == 7:\n",
        "    print(\"마이 앤숼 이ㅈ 노우!!\")\n",
        "\n",
        "  else :\n",
        "    print(\"에스크 레이털ㄹ.\")"
      ],
      "metadata": {
        "colab": {
          "base_uri": "https://localhost:8080/",
          "height": 549
        },
        "id": "GtySfSQAizLx",
        "outputId": "c50772d1-4b01-40ba-ab5f-c67afb578120"
      },
      "execution_count": 2,
      "outputs": [
        {
          "name": "stdout",
          "output_type": "stream",
          "text": [
            "이름: (종료하려면 엔터키) 킴아영!\n",
            "무엇이든 물어물어봐아ㅏ앙경기 여고 ㄱㄴ?\n",
            "킴아영!님 \" 경기 여고 ㄱㄴ? \"에 대하여 물어물어 보얐군뇨오?\n",
            "운명의 주사위를 굴려볼게요...\n",
            "네, 확실확실하군요\n",
            "이름: (종료하려면 엔터키) 오우 땡ㅆ\n",
            "무엇이든 물어물어봐아ㅏ앙쌤과 저녁 ㄱㄴ?\n",
            "오우 땡ㅆ님 \" 쌤과 저녁 ㄱㄴ? \"에 대하여 물어물어 보얐군뇨오?\n",
            "운명의 주사위를 굴려볼게요...\n",
            "네, 확실확실하군요\n",
            "이름: (종료하려면 엔터키) ㄷㄱ조ㅛ\n",
            "무엇이든 물어물어봐아ㅏ앙ㅇㅁㅇㄹㄶ\n",
            "ㄷㄱ조ㅛ님 \" ㅇㅁㅇㄹㄶ \"에 대하여 물어물어 보얐군뇨오?\n",
            "운명의 주사위를 굴려볼게요...\n",
            "마이 앤숼 이ㅈ 노우!!\n",
            "이름: (종료하려면 엔터키) 김민주\n",
            "무엇이든 물어물어봐아ㅏ앙아영이 내신 1등급 ㄱㄴ?\n",
            "김민주님 \" 아영이 내신 1등급 ㄱㄴ? \"에 대하여 물어물어 보얐군뇨오?\n",
            "운명의 주사위를 굴려볼게요...\n",
            "네, 확실확실하군요\n",
            "이름: (종료하려면 엔터키) \n"
          ]
        },
        {
          "output_type": "error",
          "ename": "SystemExit",
          "evalue": "ignored",
          "traceback": [
            "An exception has occurred, use %tb to see the full traceback.\n",
            "\u001b[0;31mSystemExit\u001b[0m\n"
          ]
        },
        {
          "output_type": "stream",
          "name": "stderr",
          "text": [
            "/usr/local/lib/python3.7/dist-packages/IPython/core/interactiveshell.py:2890: UserWarning: To exit: use 'exit', 'quit', or Ctrl-D.\n",
            "  warn(\"To exit: use 'exit', 'quit', or Ctrl-D.\", stacklevel=1)\n"
          ]
        }
      ]
    },
    {
      "cell_type": "code",
      "source": [
        "ㄴㅁㅇ"
      ],
      "metadata": {
        "id": "Pi6XQNijoBia"
      },
      "execution_count": null,
      "outputs": []
    }
  ]
}