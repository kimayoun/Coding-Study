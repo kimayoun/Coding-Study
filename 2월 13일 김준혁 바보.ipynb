{
  "nbformat": 4,
  "nbformat_minor": 0,
  "metadata": {
    "colab": {
      "name": "Untitled0.ipynb",
      "provenance": []
    },
    "kernelspec": {
      "name": "python3",
      "display_name": "Python 3"
    },
    "language_info": {
      "name": "python"
    }
  },
  "cells": [
    {
      "cell_type": "code",
      "execution_count": 8,
      "metadata": {
        "colab": {
          "base_uri": "https://localhost:8080/"
        },
        "id": "ojN0eykhWqAB",
        "outputId": "47b915e4-7f52-4782-bba6-eab0c6edbae9"
      },
      "outputs": [
        {
          "output_type": "stream",
          "name": "stdout",
          "text": [
            "7\n",
            "True\n",
            "꽤애앩\n"
          ]
        }
      ],
      "source": [
        "import random\n",
        "abc=random.randint(1,24)\n",
        "print(abc)\n",
        "hc=random.choice([True,False])\n",
        "print(hc)\n",
        "if abc>=6 and abc<=9 and hc:\n",
        "  print(\"꽤애앩\")\n",
        "else:\n",
        "  print(\"...............................\")"
      ]
    },
    {
      "cell_type": "code",
      "source": [
        "id=\"pretty_sunny\"\n",
        "s=input(\"아이디 입력해\")\n",
        "if s==id:\n",
        "  print(\"드루와\")\n",
        "else:\n",
        "  print(\"꼬죵!\")"
      ],
      "metadata": {
        "colab": {
          "base_uri": "https://localhost:8080/"
        },
        "id": "Qd9jIxesYgGB",
        "outputId": "8232d178-9ef3-4f12-84ed-84941fdff5aa"
      },
      "execution_count": 12,
      "outputs": [
        {
          "output_type": "stream",
          "name": "stdout",
          "text": [
            "아이디 입력해pretty_sunny\n",
            "드루와\n"
          ]
        }
      ]
    }
  ]
}