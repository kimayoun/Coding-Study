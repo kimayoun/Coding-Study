{
  "nbformat": 4,
  "nbformat_minor": 0,
  "metadata": {
    "colab": {
      "name": "2022년 4월 6일.ipynb",
      "provenance": [],
      "collapsed_sections": [],
      "authorship_tag": "ABX9TyNUD7lciNbpe2FGijYVkAmY",
      "include_colab_link": true
    },
    "kernelspec": {
      "name": "python3",
      "display_name": "Python 3"
    },
    "language_info": {
      "name": "python"
    }
  },
  "cells": [
    {
      "cell_type": "markdown",
      "metadata": {
        "id": "view-in-github",
        "colab_type": "text"
      },
      "source": [
        "<a href=\"https://colab.research.google.com/github/kimayoun/Coding-Study/blob/main/2022%EB%85%84_4%EC%9B%94_6%EC%9D%BC.ipynb\" target=\"_parent\"><img src=\"https://colab.research.google.com/assets/colab-badge.svg\" alt=\"Open In Colab\"/></a>"
      ]
    },
    {
      "cell_type": "code",
      "execution_count": 1,
      "metadata": {
        "id": "F5YWzwFghv9a"
      },
      "outputs": [],
      "source": [
        "letters = ['A', 'B', 'C', 'D','E', 'F']"
      ]
    },
    {
      "cell_type": "code",
      "source": [
        "print(letters[0])"
      ],
      "metadata": {
        "colab": {
          "base_uri": "https://localhost:8080/"
        },
        "id": "pYnqw5nCkh7L",
        "outputId": "3e6feb78-002f-4ab0-cd85-093a2abc37d3"
      },
      "execution_count": 2,
      "outputs": [
        {
          "output_type": "stream",
          "name": "stdout",
          "text": [
            "A\n"
          ]
        }
      ]
    },
    {
      "cell_type": "code",
      "source": [
        "print(letters[0:3])"
      ],
      "metadata": {
        "colab": {
          "base_uri": "https://localhost:8080/"
        },
        "id": "CkHmpD1sk3A9",
        "outputId": "e3e5ed7f-861d-4ffc-f5b0-c8d1bb8ee84f"
      },
      "execution_count": 3,
      "outputs": [
        {
          "output_type": "stream",
          "name": "stdout",
          "text": [
            "['A', 'B', 'C']\n"
          ]
        }
      ]
    },
    {
      "cell_type": "code",
      "source": [
        "print(letters[:])"
      ],
      "metadata": {
        "colab": {
          "base_uri": "https://localhost:8080/"
        },
        "id": "k22nsRcrlPOk",
        "outputId": "f38004be-6d7d-4567-83b9-c7031e2acfa2"
      },
      "execution_count": 4,
      "outputs": [
        {
          "output_type": "stream",
          "name": "stdout",
          "text": [
            "['A', 'B', 'C', 'D', 'E', 'F']\n"
          ]
        }
      ]
    },
    {
      "cell_type": "code",
      "source": [
        "heroes = [\"아이언맨\", \"토르\", \"헐크\", \"스칼렛 위치\"]\n",
        "heroes[1] = \"닥터 스트레인지\"\n",
        "print(heroes)"
      ],
      "metadata": {
        "colab": {
          "base_uri": "https://localhost:8080/"
        },
        "id": "Cp1zd9WElfGN",
        "outputId": "c238f87c-6114-41d0-bd9f-04c3d0fbe89b"
      },
      "execution_count": 5,
      "outputs": [
        {
          "output_type": "stream",
          "name": "stdout",
          "text": [
            "['아이언맨', '닥터 스트레인지', '헐크', '스칼렛 위치']\n"
          ]
        }
      ]
    },
    {
      "cell_type": "code",
      "source": [
        "heroes.append(\"스파이더맨\")\n",
        "print(heroes)"
      ],
      "metadata": {
        "colab": {
          "base_uri": "https://localhost:8080/"
        },
        "id": "54Fdh8TbofOO",
        "outputId": "7fa29dc7-f298-4f9d-a94e-65cd8d418cc1"
      },
      "execution_count": 6,
      "outputs": [
        {
          "output_type": "stream",
          "name": "stdout",
          "text": [
            "['아이언맨', '닥터 스트레인지', '헐크', '스칼렛 위치', '스파이더맨']\n"
          ]
        }
      ]
    },
    {
      "cell_type": "code",
      "source": [
        "heroes = [\"ㅏㅣ언맨\", \"토르\", \"헐크\", \"스칼렛 위치\"]\n",
        "heroes.remove(\"스칼렛 위치\")\n",
        "print(heroes\n",
        "    )"
      ],
      "metadata": {
        "colab": {
          "base_uri": "https://localhost:8080/"
        },
        "id": "hsJg8jCvpEAv",
        "outputId": "0d33fb11-7af4-4c04-e511-f4d81629adff"
      },
      "execution_count": 7,
      "outputs": [
        {
          "output_type": "stream",
          "name": "stdout",
          "text": [
            "['ㅏㅣ언맨', '토르', '헐크']\n"
          ]
        }
      ]
    },
    {
      "cell_type": "code",
      "source": [
        ""
      ],
      "metadata": {
        "id": "7eSEVnZhqRCN"
      },
      "execution_count": null,
      "outputs": []
    },
    {
      "cell_type": "markdown",
      "source": [
        "Aren't you tired of having a repeated daily life? I personally enjoy cooking and skiing as my hobby.\n",
        "\n",
        "Firstly, I like to cook Western foods when I am hungry. I am talented in cooking pasta and risotto. If you want to try my pasta, you are welcomed to visit my home any time. \n",
        "\n",
        "Secondly, I love skiing. Every winter, I go to the ski resort and ski for average 6hours. Everyone tells me I am talented in skiing and it is true! In fact, I have a ski certificate so that I can teach to other students. My friends actually have taught by me and they loved it. "
      ],
      "metadata": {
        "id": "76ec5oE3tZtR"
      }
    }
  ]
}