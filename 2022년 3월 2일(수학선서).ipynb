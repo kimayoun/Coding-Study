{
  "nbformat": 4,
  "nbformat_minor": 0,
  "metadata": {
    "colab": {
      "name": "Untitled1.ipynb",
      "provenance": []
    },
    "kernelspec": {
      "name": "python3",
      "display_name": "Python 3"
    },
    "language_info": {
      "name": "python"
    }
  },
  "cells": [
    {
      "cell_type": "code",
      "execution_count": null,
      "metadata": {
        "id": "e9Va54SCTPOV"
      },
      "outputs": [],
      "source": [
        ""
      ]
    },
    {
      "cell_type": "markdown",
      "source": [
        "#반복문ㅋ\n",
        "\n",
        "##반복의 종류\n",
        "\n",
        "- 횟수 제어 반복(for 문): 정해진 횟수만큼 반복한다.\n",
        "- 조건 제어 반복(while 문): 특정한 조건이 만족되면 계속 반복한다."
      ],
      "metadata": {
        "id": "VcwWDT9DVgh2"
      }
    },
    {
      "cell_type": "code",
      "source": [
        "for i in [356363466761,2,33333,423456,5,9876466]:\n",
        "  print(i)"
      ],
      "metadata": {
        "colab": {
          "base_uri": "https://localhost:8080/"
        },
        "id": "AK8gSJjsXelq",
        "outputId": "fbf2bc2b-2340-4aa9-9420-68984fea7a75"
      },
      "execution_count": 3,
      "outputs": [
        {
          "output_type": "stream",
          "name": "stdout",
          "text": [
            "356363466761\n",
            "2\n",
            "33333\n",
            "423456\n",
            "5\n",
            "9876466\n"
          ]
        }
      ]
    },
    {
      "cell_type": "code",
      "source": [
        ""
      ],
      "metadata": {
        "id": "u93xjAJuZ08c"
      },
      "execution_count": null,
      "outputs": []
    },
    {
      "cell_type": "markdown",
      "source": [
        "#횟수 제어 반복\n",
        "\n",
        "구구단 에제를 코드를 쳐볼거다"
      ],
      "metadata": {
        "id": "ryof1cvcagMt"
      }
    },
    {
      "cell_type": "code",
      "source": [
        "for i in [1,2,3,4,5]:\n",
        "  print(\"9 *\",i,'=',i*9)"
      ],
      "metadata": {
        "colab": {
          "base_uri": "https://localhost:8080/"
        },
        "id": "w3NH41GBa_Er",
        "outputId": "6fda0c7b-8696-48de-cf53-948be46fb12b"
      },
      "execution_count": 6,
      "outputs": [
        {
          "output_type": "stream",
          "name": "stdout",
          "text": [
            "9 * 1 = 9\n",
            "9 * 2 = 18\n",
            "9 * 3 = 27\n",
            "9 * 4 = 36\n",
            "9 * 5 = 45\n"
          ]
        }
      ]
    },
    {
      "cell_type": "code",
      "source": [
        ""
      ],
      "metadata": {
        "id": "wWqUcsmHbW-b"
      },
      "execution_count": null,
      "outputs": []
    },
    {
      "cell_type": "markdown",
      "source": [
        "#횟수 제어 반복\n",
        "\n",
        "Range 함수가 자동적으로 정수를 생성해준다.\n"
      ],
      "metadata": {
        "id": "IVSD0d74cZZF"
      }
    },
    {
      "cell_type": "code",
      "source": [
        "for i in range(5):\n",
        "  print(\"다 드루와\")"
      ],
      "metadata": {
        "colab": {
          "base_uri": "https://localhost:8080/"
        },
        "id": "zFfV9SdCclbT",
        "outputId": "37446ee0-cce2-466f-97fe-3bfbd674f226"
      },
      "execution_count": 7,
      "outputs": [
        {
          "output_type": "stream",
          "name": "stdout",
          "text": [
            "다 드루와\n",
            "다 드루와\n",
            "다 드루와\n",
            "다 드루와\n",
            "다 드루와\n"
          ]
        }
      ]
    },
    {
      "cell_type": "code",
      "source": [
        ""
      ],
      "metadata": {
        "id": "wDrRkdamdel2"
      },
      "execution_count": null,
      "outputs": []
    },
    {
      "cell_type": "markdown",
      "source": [
        "복습톼-임\n",
        "⏰"
      ],
      "metadata": {
        "id": "5bYZLqiOdkXu"
      }
    },
    {
      "cell_type": "code",
      "source": [
        "for i in range(15):\n",
        "  print(\"나는 수학을 열심히 풀겠습니다ㅋ.\")"
      ],
      "metadata": {
        "colab": {
          "base_uri": "https://localhost:8080/"
        },
        "id": "YuN4XjqddxHi",
        "outputId": "8e4150b9-40c9-4161-f230-1bcc5745c56f"
      },
      "execution_count": 10,
      "outputs": [
        {
          "output_type": "stream",
          "name": "stdout",
          "text": [
            "나는 수학을 열심히 풀겠습니다ㅋ.\n",
            "나는 수학을 열심히 풀겠습니다ㅋ.\n",
            "나는 수학을 열심히 풀겠습니다ㅋ.\n",
            "나는 수학을 열심히 풀겠습니다ㅋ.\n",
            "나는 수학을 열심히 풀겠습니다ㅋ.\n",
            "나는 수학을 열심히 풀겠습니다ㅋ.\n",
            "나는 수학을 열심히 풀겠습니다ㅋ.\n",
            "나는 수학을 열심히 풀겠습니다ㅋ.\n",
            "나는 수학을 열심히 풀겠습니다ㅋ.\n",
            "나는 수학을 열심히 풀겠습니다ㅋ.\n",
            "나는 수학을 열심히 풀겠습니다ㅋ.\n",
            "나는 수학을 열심히 풀겠습니다ㅋ.\n",
            "나는 수학을 열심히 풀겠습니다ㅋ.\n",
            "나는 수학을 열심히 풀겠습니다ㅋ.\n",
            "나는 수학을 열심히 풀겠습니다ㅋ.\n"
          ]
        }
      ]
    },
    {
      "cell_type": "code",
      "source": [
        ""
      ],
      "metadata": {
        "id": "RLtIBLGLekz7"
      },
      "execution_count": null,
      "outputs": []
    }
  ]
}